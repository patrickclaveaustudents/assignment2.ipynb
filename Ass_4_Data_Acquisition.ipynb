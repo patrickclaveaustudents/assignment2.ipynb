{
  "nbformat": 4,
  "nbformat_minor": 0,
  "metadata": {
    "colab": {
      "provenance": []
    },
    "kernelspec": {
      "name": "python3",
      "display_name": "Python 3"
    },
    "language_info": {
      "name": "python"
    }
  },
  "cells": [
    {
      "cell_type": "code",
      "source": [
        "import sqlite3\n",
        "\n",
        "# Connect to SQLite database\n",
        "conn = sqlite3.connect('Store.db')\n",
        "\n",
        "# Create a cursor object to interact with the database\n",
        "cur = conn.cursor()\n",
        "\n",
        "# Create tables and print confirmation\n",
        "cur.execute('''\n",
        "CREATE TABLE IF NOT EXISTS Product (\n",
        "    Product_Id INTEGER PRIMARY KEY,\n",
        "    Product_Name TEXT,\n",
        "    Price REAL,\n",
        "    Aisle_Id INTEGER\n",
        ")\n",
        "''')\n",
        "print(\"Product table created\")\n",
        "\n",
        "cur.execute('''\n",
        "CREATE TABLE IF NOT EXISTS \"Order\" (\n",
        "    Order_Id INTEGER PRIMARY KEY,\n",
        "    Product_Id INTEGER,\n",
        "    Customer_Name TEXT,\n",
        "    Amount INTEGER\n",
        ")\n",
        "''')\n",
        "print('\"Order\" table created')\n",
        "\n",
        "cur.execute('''\n",
        "CREATE TABLE IF NOT EXISTS Aisle (\n",
        "    Aisle_Id INTEGER PRIMARY KEY,\n",
        "    Aisle_Name TEXT,\n",
        "    Product_Id INTEGER\n",
        ")\n",
        "''')\n",
        "print(\"Aisle table created\")\n",
        "\n",
        "# Insert data into tables using INSERT OR IGNORE and print confirmation\n",
        "cur.execute('INSERT OR IGNORE INTO Product (Product_Id, Product_Name, Price, Aisle_Id) VALUES (1, \"Apple\", 0.5, 1)')\n",
        "cur.execute('INSERT OR IGNORE INTO Product (Product_Id, Product_Name, Price, Aisle_Id) VALUES (2, \"Banana\", 0.3, 1)')\n",
        "cur.execute('INSERT OR IGNORE INTO Product (Product_Id, Product_Name, Price, Aisle_Id) VALUES (3, \"Carrot\", 0.2, 2)')\n",
        "cur.execute('INSERT OR IGNORE INTO Product (Product_Id, Product_Name, Price, Aisle_Id) VALUES (4, \"Detergent\", 5.0, 3)')\n",
        "cur.execute('INSERT OR IGNORE INTO Product (Product_Id, Product_Name, Price, Aisle_Id) VALUES (5, \"Eggs\", 2.0, 1)')\n",
        "cur.execute('INSERT OR IGNORE INTO Product (Product_Id, Product_Name, Price, Aisle_Id) VALUES (6, \"Flour\", 1.0, 4)')\n",
        "print(\"Data inserted into Product table\")\n",
        "\n",
        "cur.execute('INSERT OR IGNORE INTO \"Order\" (Order_Id, Product_Id, Customer_Name, Amount) VALUES (1, 1, \"John Doe\", 5)')\n",
        "cur.execute('INSERT OR IGNORE INTO \"Order\" (Order_Id, Product_Id, Customer_Name, Amount) VALUES (2, 2, \"Jane Doe\", 10)')\n",
        "cur.execute('INSERT OR IGNORE INTO \"Order\" (Order_Id, Product_Id, Customer_Name, Amount) VALUES (3, 3, \"Alice\", 4)')\n",
        "cur.execute('INSERT OR IGNORE INTO \"Order\" (Order_Id, Product_Id, Customer_Name, Amount) VALUES (4, 4, \"Bob\", 2)')\n",
        "print(\"Data inserted into \\\"Order\\\" table\")\n",
        "\n",
        "# Commit the changes and close the connection\n",
        "conn.commit() # Committing the changes to persist them\n",
        "print(\"Changes committed\")\n",
        "\n",
        "conn.close()  # Closing the connection explicitly to release the lock\n",
        "print(\"Connection closed\")\n"
      ],
      "metadata": {
        "id": "832fXNuCQL5R",
        "colab": {
          "base_uri": "https://localhost:8080/"
        },
        "outputId": "5de3982f-c98b-40f6-d9b7-c1c4b76b4062"
      },
      "execution_count": null,
      "outputs": [
        {
          "output_type": "stream",
          "name": "stdout",
          "text": [
            "Product table created\n",
            "\"Order\" table created\n",
            "Aisle table created\n",
            "Data inserted into Product table\n",
            "Data inserted into \"Order\" table\n",
            "Changes committed\n",
            "Connection closed\n"
          ]
        }
      ]
    },
    {
      "cell_type": "code",
      "source": [
        "import sqlite3\n",
        "import pandas as pd\n",
        "\n",
        "# Connect to SQLite database\n",
        "conn = sqlite3.connect('Store.db')\n",
        "print(\"Connected to SQLite database\")\n",
        "\n",
        "# Load tables and join them\n",
        "query = '''\n",
        "SELECT Product.Product_Id, Product.Product_Name, Product.Price, Aisle.Aisle_Id, Aisle.Aisle_Name\n",
        "FROM Product\n",
        "JOIN Aisle ON Product.Aisle_Id = Aisle.Aisle_Id\n",
        "'''\n",
        "\n",
        "# Execute the query and save the result into a dataframe\n",
        "df = pd.read_sql_query(query, conn)\n",
        "print(\"Query executed and result saved into dataframe:\")\n",
        "print(df)\n",
        "\n",
        "# Export the dataframe to a CSV file\n",
        "df.to_csv('Product_Aisle.csv', index=False)\n",
        "print(\"Dataframe exported to 'Product_Aisle.csv'\")\n",
        "\n",
        "# Close the connection\n",
        "conn.close()\n",
        "print(\"Connection closed\")\n",
        "\n"
      ],
      "metadata": {
        "id": "gCnvxEQAVz5g",
        "colab": {
          "base_uri": "https://localhost:8080/"
        },
        "outputId": "fa3b215a-2b5a-4d31-a5a9-b3db164310d0"
      },
      "execution_count": null,
      "outputs": [
        {
          "output_type": "stream",
          "name": "stdout",
          "text": [
            "Connected to SQLite database\n",
            "Query executed and result saved into dataframe:\n",
            "Empty DataFrame\n",
            "Columns: [Product_Id, Product_Name, Price, Aisle_Id, Aisle_Name]\n",
            "Index: []\n",
            "Dataframe exported to 'Product_Aisle.csv'\n",
            "Connection closed\n"
          ]
        }
      ]
    },
    {
      "cell_type": "code",
      "source": [
        "from sqlalchemy import create_engine, MetaData, Table\n",
        "import pandas as pd\n",
        "\n",
        "# Create a SQLAlchemy engine\n",
        "engine = create_engine('sqlite:///Store.db')\n",
        "print(\"SQLAlchemy engine created\")\n",
        "\n",
        "# Load tables and join them\n",
        "query = '''\n",
        "SELECT \"Order\".Order_Id, \"Order\".Customer_Name, \"Order\".Amount, Product.Product_Id, Product.Product_Name\n",
        "FROM \"Order\"\n",
        "JOIN Product ON \"Order\".Product_Id = Product.Product_Id\n",
        "'''\n",
        "print(\"SQL query defined\")\n",
        "\n",
        "# Execute the query and save the result into a dataframe\n",
        "df = pd.read_sql_query(query, engine)\n",
        "print(\"Query executed and result saved into dataframe:\")\n",
        "print(df)\n",
        "\n",
        "# Export the dataframe to a CSV file\n",
        "df.to_csv('Order_Product.csv', index=False)\n",
        "print(\"Dataframe exported to 'Order_Product.csv'\")\n",
        "\n"
      ],
      "metadata": {
        "id": "TIVkB3b6V4l4",
        "colab": {
          "base_uri": "https://localhost:8080/"
        },
        "outputId": "e7f8ae81-bcec-4272-d3a6-f65f5b4e0fde"
      },
      "execution_count": null,
      "outputs": [
        {
          "output_type": "stream",
          "name": "stdout",
          "text": [
            "SQLAlchemy engine created\n",
            "SQL query defined\n",
            "Query executed and result saved into dataframe:\n",
            "   Order_Id Customer_Name  Amount  Product_Id Product_Name\n",
            "0         1      John Doe       5           1        Apple\n",
            "1         2      Jane Doe      10           2       Banana\n",
            "2         3         Alice       4           3       Carrot\n",
            "3         4           Bob       2           4    Detergent\n",
            "Dataframe exported to 'Order_Product.csv'\n"
          ]
        }
      ]
    }
  ]
}